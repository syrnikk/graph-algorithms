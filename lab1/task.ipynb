{
 "cells": [
  {
   "cell_type": "code",
   "execution_count": 19,
   "metadata": {},
   "outputs": [],
   "source": [
    "import numpy as np\n",
    "import graph_reader_writer\n",
    "import graph_converter\n",
    "import graph_visualizer\n",
    "import graph_generator"
   ]
  },
  {
   "cell_type": "code",
   "execution_count": 20,
   "metadata": {},
   "outputs": [
    {
     "name": "stdout",
     "output_type": "stream",
     "text": [
      "0: 1,4\n",
      "1: 0,2,3,4\n",
      "2: 1,3\n",
      "3: 1,2,4\n",
      "4: 0,1,3\n"
     ]
    }
   ],
   "source": [
    "# reading from file\n",
    "graph = None\n",
    "with open(\"./examples/list.txt\", \"r\") as f:\n",
    "    graph = graph_reader_writer.read_list(f, v_sep=\";\")\n",
    "    graph_reader_writer.print_list(graph)\n",
    "matrix = graph_converter.convert_list_to_matrix(graph, len(graph))"
   ]
  },
  {
   "cell_type": "code",
   "execution_count": 21,
   "metadata": {},
   "outputs": [
    {
     "name": "stdout",
     "output_type": "stream",
     "text": [
      "\n",
      "Neighbor matrix for graph above\n",
      "0 1 2 3 4\n",
      "- - - - -\n",
      "0 1 0 0 1 \n",
      "1 0 1 1 1 \n",
      "0 1 0 1 0 \n",
      "0 1 1 0 1 \n",
      "1 1 0 1 0 \n",
      "\n",
      "Adjacency matrix\n",
      " 0 1 2 3 4 5 6\n",
      "0 1 1 0 0 0 0 0 \n",
      "1 1 0 1 1 1 0 0 \n",
      "2 0 0 1 0 0 1 0 \n",
      "3 0 0 0 1 0 1 1 \n",
      "4 0 1 0 0 1 0 1 \n"
     ]
    }
   ],
   "source": [
    "# printing and converting in different formats\n",
    "print(\"\\nNeighbor matrix for graph above\")\n",
    "\n",
    "graph_reader_writer.print_nei_matrix(\n",
    "    [i for i in range(np.shape(matrix)[0])], matrix)\n",
    "\n",
    "matrix2 = graph_converter.convert_list_to_incidence(graph, len(graph))\n",
    "matrix2_shape = np.shape(matrix2)\n",
    "\n",
    "print(\"\\nAdjacency matrix\")\n",
    "graph_reader_writer.print_adj_matrix([i for i in range(matrix2_shape[0])], [\n",
    "                                     i for i in range(matrix2_shape[1])], matrix2)"
   ]
  },
  {
   "cell_type": "code",
   "execution_count": 22,
   "metadata": {},
   "outputs": [],
   "source": [
    "# visualizing graph\n",
    "g = graph_visualizer.GraphVisualizer(graph)\n",
    "g.print_to_file(\"./vis.png\")"
   ]
  },
  {
   "cell_type": "code",
   "execution_count": 23,
   "metadata": {},
   "outputs": [
    {
     "name": "stdout",
     "output_type": "stream",
     "text": [
      "0: 3,2,4,1\n",
      "1: 3,2,4,0\n",
      "2: 4,0,3,1\n",
      "3: 0,4,1,2\n",
      "4: 2,3,1,0\n",
      "\n",
      "0: 2,3,7,9\n",
      "1: 4,5,7\n",
      "2: 0,3,4,8\n",
      "3: 0,2,4,6,8\n",
      "4: 1,2,3,5,7,8\n",
      "5: 1,4,7\n",
      "6: 3,8,9\n",
      "7: 0,1,4,5,8,9\n",
      "8: 2,3,4,6,7,9\n",
      "9: 0,6,7,8\n"
     ]
    }
   ],
   "source": [
    "# generating graphs\n",
    "gr1 = graph_generator.generate_graph(5, 10)\n",
    "graph_reader_writer.print_list(gr1)\n",
    "print()\n",
    "gr2 = graph_generator.generate_graph_by_probability(10, 0.5)\n",
    "graph_reader_writer.print_list(gr2)\n",
    "\n",
    "g1 = graph_visualizer.GraphVisualizer(gr1)\n",
    "g1.print_to_file(\"./vis_1.png\")\n",
    "\n",
    "g2 = graph_visualizer.GraphVisualizer(gr2)\n",
    "g2.print_to_file(\"./vis_2.png\")"
   ]
  }
 ],
 "metadata": {
  "kernelspec": {
   "display_name": "Python 3",
   "language": "python",
   "name": "python3"
  },
  "language_info": {
   "codemirror_mode": {
    "name": "ipython",
    "version": 3
   },
   "file_extension": ".py",
   "mimetype": "text/x-python",
   "name": "python",
   "nbconvert_exporter": "python",
   "pygments_lexer": "ipython3",
   "version": "3.9.13"
  },
  "orig_nbformat": 4
 },
 "nbformat": 4,
 "nbformat_minor": 2
}
