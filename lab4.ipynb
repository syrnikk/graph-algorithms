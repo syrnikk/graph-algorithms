{
 "cells": [
  {
   "cell_type": "markdown",
   "source": [
    "## 1\n"
   ],
   "metadata": {
    "collapsed": false
   }
  },
  {
   "cell_type": "code",
   "execution_count": 1,
   "outputs": [
    {
     "data": {
      "text/plain": "{0: [], 1: [2, 5], 2: [5], 3: [1], 4: [0, 3], 5: [1, 3], 6: [0, 3]}"
     },
     "execution_count": 1,
     "metadata": {},
     "output_type": "execute_result"
    }
   ],
   "source": [
    "from lab4.digraph_generator import generate_digraph_by_probability\n",
    "\n",
    "graph = generate_digraph_by_probability(7, 0.3)\n",
    "\n",
    "graph"
   ],
   "metadata": {
    "collapsed": false
   }
  },
  {
   "cell_type": "code",
   "execution_count": 2,
   "outputs": [
    {
     "data": {
      "text/plain": "<igraph.drawing.cairo.plot.CairoPlot at 0x7fef71626aa0>",
      "image/svg+xml": "<?xml version=\"1.0\" encoding=\"UTF-8\"?>\n<svg xmlns=\"http://www.w3.org/2000/svg\" xmlns:xlink=\"http://www.w3.org/1999/xlink\" width=\"300pt\" height=\"300pt\" viewBox=\"0 0 300 300\" version=\"1.1\">\n<defs>\n<g>\n<symbol overflow=\"visible\" id=\"glyph0-0\">\n<path style=\"stroke:none;\" d=\"M 0.703125 2.46875 L 0.703125 -9.875 L 7.703125 -9.875 L 7.703125 2.46875 Z M 1.484375 1.703125 L 6.921875 1.703125 L 6.921875 -9.078125 L 1.484375 -9.078125 Z M 1.484375 1.703125 \"/>\n</symbol>\n<symbol overflow=\"visible\" id=\"glyph0-1\">\n<path style=\"stroke:none;\" d=\"M 4.453125 -9.296875 C 3.742188 -9.296875 3.207031 -8.945312 2.84375 -8.25 C 2.488281 -7.550781 2.3125 -6.5 2.3125 -5.09375 C 2.3125 -3.695312 2.488281 -2.644531 2.84375 -1.9375 C 3.207031 -1.238281 3.742188 -0.890625 4.453125 -0.890625 C 5.171875 -0.890625 5.707031 -1.238281 6.0625 -1.9375 C 6.414062 -2.644531 6.59375 -3.695312 6.59375 -5.09375 C 6.59375 -6.5 6.414062 -7.550781 6.0625 -8.25 C 5.707031 -8.945312 5.171875 -9.296875 4.453125 -9.296875 Z M 4.453125 -10.390625 C 5.597656 -10.390625 6.472656 -9.9375 7.078125 -9.03125 C 7.679688 -8.125 7.984375 -6.8125 7.984375 -5.09375 C 7.984375 -3.375 7.679688 -2.0625 7.078125 -1.15625 C 6.472656 -0.25 5.597656 0.203125 4.453125 0.203125 C 3.304688 0.203125 2.429688 -0.25 1.828125 -1.15625 C 1.222656 -2.0625 0.921875 -3.375 0.921875 -5.09375 C 0.921875 -6.8125 1.222656 -8.125 1.828125 -9.03125 C 2.429688 -9.9375 3.304688 -10.390625 4.453125 -10.390625 Z M 4.453125 -10.390625 \"/>\n</symbol>\n<symbol overflow=\"visible\" id=\"glyph0-2\">\n<path style=\"stroke:none;\" d=\"M 1.734375 -1.15625 L 4 -1.15625 L 4 -8.953125 L 1.53125 -8.453125 L 1.53125 -9.71875 L 3.984375 -10.203125 L 5.359375 -10.203125 L 5.359375 -1.15625 L 7.609375 -1.15625 L 7.609375 0 L 1.734375 0 Z M 1.734375 -1.15625 \"/>\n</symbol>\n<symbol overflow=\"visible\" id=\"glyph0-3\">\n<path style=\"stroke:none;\" d=\"M 2.6875 -1.15625 L 7.5 -1.15625 L 7.5 0 L 1.03125 0 L 1.03125 -1.15625 C 1.550781 -1.695312 2.265625 -2.425781 3.171875 -3.34375 C 4.078125 -4.257812 4.644531 -4.847656 4.875 -5.109375 C 5.3125 -5.609375 5.617188 -6.03125 5.796875 -6.375 C 5.972656 -6.71875 6.0625 -7.054688 6.0625 -7.390625 C 6.0625 -7.929688 5.867188 -8.375 5.484375 -8.71875 C 5.109375 -9.0625 4.613281 -9.234375 4 -9.234375 C 3.570312 -9.234375 3.117188 -9.15625 2.640625 -9 C 2.160156 -8.851562 1.644531 -8.625 1.09375 -8.3125 L 1.09375 -9.71875 C 1.644531 -9.9375 2.160156 -10.101562 2.640625 -10.21875 C 3.128906 -10.332031 3.578125 -10.390625 3.984375 -10.390625 C 5.035156 -10.390625 5.875 -10.125 6.5 -9.59375 C 7.132812 -9.070312 7.453125 -8.367188 7.453125 -7.484375 C 7.453125 -7.054688 7.375 -6.65625 7.21875 -6.28125 C 7.0625 -5.90625 6.773438 -5.460938 6.359375 -4.953125 C 6.242188 -4.828125 5.878906 -4.445312 5.265625 -3.8125 C 4.660156 -3.175781 3.800781 -2.289062 2.6875 -1.15625 Z M 2.6875 -1.15625 \"/>\n</symbol>\n<symbol overflow=\"visible\" id=\"glyph0-4\">\n<path style=\"stroke:none;\" d=\"M 5.6875 -5.5 C 6.34375 -5.363281 6.851562 -5.070312 7.21875 -4.625 C 7.59375 -4.175781 7.78125 -3.625 7.78125 -2.96875 C 7.78125 -1.957031 7.429688 -1.175781 6.734375 -0.625 C 6.046875 -0.0703125 5.066406 0.203125 3.796875 0.203125 C 3.367188 0.203125 2.925781 0.15625 2.46875 0.0625 C 2.019531 -0.0195312 1.550781 -0.144531 1.0625 -0.3125 L 1.0625 -1.640625 C 1.445312 -1.421875 1.867188 -1.253906 2.328125 -1.140625 C 2.785156 -1.023438 3.257812 -0.96875 3.75 -0.96875 C 4.613281 -0.96875 5.269531 -1.132812 5.71875 -1.46875 C 6.175781 -1.8125 6.40625 -2.3125 6.40625 -2.96875 C 6.40625 -3.570312 6.191406 -4.039062 5.765625 -4.375 C 5.347656 -4.71875 4.765625 -4.890625 4.015625 -4.890625 L 2.828125 -4.890625 L 2.828125 -6.015625 L 4.078125 -6.015625 C 4.753906 -6.015625 5.269531 -6.148438 5.625 -6.421875 C 5.988281 -6.703125 6.171875 -7.097656 6.171875 -7.609375 C 6.171875 -8.128906 5.984375 -8.53125 5.609375 -8.8125 C 5.242188 -9.09375 4.710938 -9.234375 4.015625 -9.234375 C 3.640625 -9.234375 3.234375 -9.191406 2.796875 -9.109375 C 2.367188 -9.023438 1.894531 -8.894531 1.375 -8.71875 L 1.375 -9.953125 C 1.894531 -10.097656 2.382812 -10.207031 2.84375 -10.28125 C 3.300781 -10.351562 3.734375 -10.390625 4.140625 -10.390625 C 5.191406 -10.390625 6.019531 -10.148438 6.625 -9.671875 C 7.238281 -9.203125 7.546875 -8.5625 7.546875 -7.75 C 7.546875 -7.175781 7.382812 -6.695312 7.0625 -6.3125 C 6.738281 -5.925781 6.28125 -5.65625 5.6875 -5.5 Z M 5.6875 -5.5 \"/>\n</symbol>\n<symbol overflow=\"visible\" id=\"glyph0-5\">\n<path style=\"stroke:none;\" d=\"M 5.296875 -9 L 1.8125 -3.5625 L 5.296875 -3.5625 Z M 4.921875 -10.203125 L 6.671875 -10.203125 L 6.671875 -3.5625 L 8.125 -3.5625 L 8.125 -2.40625 L 6.671875 -2.40625 L 6.671875 0 L 5.296875 0 L 5.296875 -2.40625 L 0.6875 -2.40625 L 0.6875 -3.734375 Z M 4.921875 -10.203125 \"/>\n</symbol>\n<symbol overflow=\"visible\" id=\"glyph0-6\">\n<path style=\"stroke:none;\" d=\"M 1.515625 -10.203125 L 6.9375 -10.203125 L 6.9375 -9.046875 L 2.78125 -9.046875 L 2.78125 -6.546875 C 2.976562 -6.609375 3.175781 -6.65625 3.375 -6.6875 C 3.570312 -6.726562 3.773438 -6.75 3.984375 -6.75 C 5.117188 -6.75 6.019531 -6.4375 6.6875 -5.8125 C 7.351562 -5.1875 7.6875 -4.34375 7.6875 -3.28125 C 7.6875 -2.175781 7.34375 -1.316406 6.65625 -0.703125 C 5.976562 -0.0976562 5.015625 0.203125 3.765625 0.203125 C 3.335938 0.203125 2.898438 0.164062 2.453125 0.09375 C 2.015625 0.0195312 1.554688 -0.0859375 1.078125 -0.234375 L 1.078125 -1.625 C 1.492188 -1.40625 1.921875 -1.238281 2.359375 -1.125 C 2.796875 -1.019531 3.253906 -0.96875 3.734375 -0.96875 C 4.523438 -0.96875 5.148438 -1.171875 5.609375 -1.578125 C 6.066406 -1.992188 6.296875 -2.5625 6.296875 -3.28125 C 6.296875 -3.988281 6.066406 -4.546875 5.609375 -4.953125 C 5.148438 -5.367188 4.523438 -5.578125 3.734375 -5.578125 C 3.367188 -5.578125 3 -5.535156 2.625 -5.453125 C 2.257812 -5.378906 1.890625 -5.253906 1.515625 -5.078125 Z M 1.515625 -10.203125 \"/>\n</symbol>\n<symbol overflow=\"visible\" id=\"glyph0-7\">\n<path style=\"stroke:none;\" d=\"M 4.625 -5.65625 C 4 -5.65625 3.503906 -5.441406 3.140625 -5.015625 C 2.785156 -4.585938 2.609375 -4.007812 2.609375 -3.28125 C 2.609375 -2.539062 2.785156 -1.957031 3.140625 -1.53125 C 3.503906 -1.101562 4 -0.890625 4.625 -0.890625 C 5.238281 -0.890625 5.726562 -1.101562 6.09375 -1.53125 C 6.457031 -1.957031 6.640625 -2.539062 6.640625 -3.28125 C 6.640625 -4.007812 6.457031 -4.585938 6.09375 -5.015625 C 5.726562 -5.441406 5.238281 -5.65625 4.625 -5.65625 Z M 7.359375 -9.984375 L 7.359375 -8.71875 C 7.015625 -8.882812 6.664062 -9.007812 6.3125 -9.09375 C 5.957031 -9.1875 5.609375 -9.234375 5.265625 -9.234375 C 4.347656 -9.234375 3.648438 -8.925781 3.171875 -8.3125 C 2.691406 -7.695312 2.421875 -6.765625 2.359375 -5.515625 C 2.617188 -5.910156 2.953125 -6.210938 3.359375 -6.421875 C 3.765625 -6.640625 4.210938 -6.75 4.703125 -6.75 C 5.722656 -6.75 6.53125 -6.4375 7.125 -5.8125 C 7.726562 -5.1875 8.03125 -4.34375 8.03125 -3.28125 C 8.03125 -2.226562 7.71875 -1.382812 7.09375 -0.75 C 6.476562 -0.113281 5.65625 0.203125 4.625 0.203125 C 3.4375 0.203125 2.53125 -0.25 1.90625 -1.15625 C 1.289062 -2.0625 0.984375 -3.375 0.984375 -5.09375 C 0.984375 -6.707031 1.363281 -7.992188 2.125 -8.953125 C 2.894531 -9.910156 3.921875 -10.390625 5.203125 -10.390625 C 5.554688 -10.390625 5.90625 -10.351562 6.25 -10.28125 C 6.601562 -10.21875 6.972656 -10.117188 7.359375 -9.984375 Z M 7.359375 -9.984375 \"/>\n</symbol>\n</g>\n</defs>\n<g id=\"surface2\">\n<rect x=\"0\" y=\"0\" width=\"300\" height=\"300\" style=\"fill:rgb(46.666667%,53.333333%,60%);fill-opacity:1;stroke:none;\"/>\n<path style=\"fill:none;stroke-width:2;stroke-linecap:butt;stroke-linejoin:miter;stroke:rgb(26.666667%,26.666667%,26.666667%);stroke-opacity:1;stroke-miterlimit:10;\" d=\"M 110.851562 231.167969 L 41.375 268.511719 \"/>\n<path style=\" stroke:none;fill-rule:nonzero;fill:rgb(26.666667%,26.666667%,26.666667%);fill-opacity:1;\" d=\"M 28.808594 275.265625 L 39.179688 264.429688 L 43.570312 272.59375 L 28.808594 275.265625 \"/>\n<path style=\"fill:none;stroke-width:2;stroke-linecap:butt;stroke-linejoin:miter;stroke:rgb(26.666667%,26.666667%,26.666667%);stroke-opacity:1;stroke-miterlimit:10;\" d=\"M 110.851562 231.167969 C 103.582031 211.910156 88.777344 199.570312 69.164062 204.65625 \"/>\n<path style=\" stroke:none;fill-rule:nonzero;fill:rgb(26.666667%,26.666667%,26.666667%);fill-opacity:1;\" d=\"M 55.355469 208.238281 L 68 200.171875 L 70.328125 209.144531 L 55.355469 208.238281 \"/>\n<path style=\"fill:none;stroke-width:2;stroke-linecap:butt;stroke-linejoin:miter;stroke:rgb(26.666667%,26.666667%,26.666667%);stroke-opacity:1;stroke-miterlimit:10;\" d=\"M 20 280 L 37.320312 233.464844 \"/>\n<path style=\" stroke:none;fill-rule:nonzero;fill:rgb(26.666667%,26.666667%,26.666667%);fill-opacity:1;\" d=\"M 42.292969 220.09375 L 41.664062 235.082031 L 32.976562 231.847656 L 42.292969 220.09375 \"/>\n<path style=\"fill:none;stroke-width:2;stroke-linecap:butt;stroke-linejoin:miter;stroke:rgb(26.666667%,26.666667%,26.666667%);stroke-opacity:1;stroke-miterlimit:10;\" d=\"M 152.152344 146.175781 L 121.457031 209.34375 \"/>\n<path style=\" stroke:none;fill-rule:nonzero;fill:rgb(26.666667%,26.666667%,26.666667%);fill-opacity:1;\" d=\"M 115.222656 222.171875 L 117.289062 207.316406 L 125.628906 211.367188 L 115.222656 222.171875 \"/>\n<path style=\"fill:none;stroke-width:2;stroke-linecap:butt;stroke-linejoin:miter;stroke:rgb(26.666667%,26.666667%,26.666667%);stroke-opacity:1;stroke-miterlimit:10;\" d=\"M 166.019531 56.515625 L 253.707031 27.597656 \"/>\n<path style=\" stroke:none;fill-rule:nonzero;fill:rgb(26.666667%,26.666667%,26.666667%);fill-opacity:1;\" d=\"M 267.253906 23.132812 L 255.160156 32 L 252.253906 23.199219 L 267.253906 23.132812 \"/>\n<path style=\"fill:none;stroke-width:2;stroke-linecap:butt;stroke-linejoin:miter;stroke:rgb(26.666667%,26.666667%,26.666667%);stroke-opacity:1;stroke-miterlimit:10;\" d=\"M 166.019531 56.515625 L 155.863281 122.195312 \"/>\n<path style=\" stroke:none;fill-rule:nonzero;fill:rgb(26.666667%,26.666667%,26.666667%);fill-opacity:1;\" d=\"M 153.683594 136.292969 L 151.28125 121.484375 L 160.445312 122.902344 L 153.683594 136.292969 \"/>\n<path style=\"fill:none;stroke-width:2;stroke-linecap:butt;stroke-linejoin:miter;stroke:rgb(26.666667%,26.666667%,26.666667%);stroke-opacity:1;stroke-miterlimit:10;\" d=\"M 45.78125 210.722656 C 65.152344 225.164062 106.199219 217.640625 103.765625 210.558594 \"/>\n<path style=\" stroke:none;fill-rule:nonzero;fill:rgb(26.666667%,26.666667%,26.666667%);fill-opacity:1;\" d=\"M 108.40625 224.050781 L 99.382812 212.066406 L 108.148438 209.050781 L 108.40625 224.050781 \"/>\n<path style=\"fill:none;stroke-width:2;stroke-linecap:butt;stroke-linejoin:miter;stroke:rgb(26.666667%,26.666667%,26.666667%);stroke-opacity:1;stroke-miterlimit:10;\" d=\"M 45.78125 210.722656 L 131.410156 158.761719 \"/>\n<path style=\" stroke:none;fill-rule:nonzero;fill:rgb(26.666667%,26.666667%,26.666667%);fill-opacity:1;\" d=\"M 143.605469 151.363281 L 133.8125 162.726562 L 129.003906 154.800781 L 143.605469 151.363281 \"/>\n<path style=\"fill:none;stroke-width:2;stroke-linecap:butt;stroke-linejoin:miter;stroke:rgb(26.666667%,26.666667%,26.666667%);stroke-opacity:1;stroke-miterlimit:10;\" d=\"M 280 92.328125 L 277.839844 44.242188 \"/>\n<path style=\" stroke:none;fill-rule:nonzero;fill:rgb(26.666667%,26.666667%,26.666667%);fill-opacity:1;\" d=\"M 277.199219 29.988281 L 282.472656 44.035156 L 273.210938 44.449219 L 277.199219 29.988281 \"/>\n<path style=\"fill:none;stroke-width:2;stroke-linecap:butt;stroke-linejoin:miter;stroke:rgb(26.666667%,26.666667%,26.666667%);stroke-opacity:1;stroke-miterlimit:10;\" d=\"M 280 92.328125 L 174.515625 136.753906 \"/>\n<path style=\" stroke:none;fill-rule:nonzero;fill:rgb(26.666667%,26.666667%,26.666667%);fill-opacity:1;\" d=\"M 161.371094 142.292969 L 172.71875 132.484375 L 176.316406 141.027344 L 161.371094 142.292969 \"/>\n<path style=\"fill-rule:nonzero;fill:rgb(33.333333%,41.960784%,18.431373%);fill-opacity:1;stroke-width:1;stroke-linecap:butt;stroke-linejoin:miter;stroke:rgb(0%,0%,0%);stroke-opacity:1;stroke-miterlimit:10;\" d=\"M 286.753906 20 C 286.753906 25.523438 282.273438 30 276.753906 30 C 271.230469 30 266.753906 25.523438 266.753906 20 C 266.753906 14.476562 271.230469 10 276.753906 10 C 282.273438 10 286.753906 14.476562 286.753906 20 \"/>\n<path style=\"fill-rule:nonzero;fill:rgb(33.333333%,41.960784%,18.431373%);fill-opacity:1;stroke-width:1;stroke-linecap:butt;stroke-linejoin:miter;stroke:rgb(0%,0%,0%);stroke-opacity:1;stroke-miterlimit:10;\" d=\"M 120.851562 231.167969 C 120.851562 236.691406 116.375 241.167969 110.851562 241.167969 C 105.328125 241.167969 100.851562 236.691406 100.851562 231.167969 C 100.851562 225.644531 105.328125 221.167969 110.851562 221.167969 C 116.375 221.167969 120.851562 225.644531 120.851562 231.167969 \"/>\n<path style=\"fill-rule:nonzero;fill:rgb(33.333333%,41.960784%,18.431373%);fill-opacity:1;stroke-width:1;stroke-linecap:butt;stroke-linejoin:miter;stroke:rgb(0%,0%,0%);stroke-opacity:1;stroke-miterlimit:10;\" d=\"M 30 280 C 30 285.523438 25.523438 290 20 290 C 14.476562 290 10 285.523438 10 280 C 10 274.476562 14.476562 270 20 270 C 25.523438 270 30 274.476562 30 280 \"/>\n<path style=\"fill-rule:nonzero;fill:rgb(33.333333%,41.960784%,18.431373%);fill-opacity:1;stroke-width:1;stroke-linecap:butt;stroke-linejoin:miter;stroke:rgb(0%,0%,0%);stroke-opacity:1;stroke-miterlimit:10;\" d=\"M 162.152344 146.175781 C 162.152344 151.699219 157.675781 156.175781 152.152344 156.175781 C 146.632812 156.175781 142.152344 151.699219 142.152344 146.175781 C 142.152344 140.652344 146.632812 136.175781 152.152344 136.175781 C 157.675781 136.175781 162.152344 140.652344 162.152344 146.175781 \"/>\n<path style=\"fill-rule:nonzero;fill:rgb(33.333333%,41.960784%,18.431373%);fill-opacity:1;stroke-width:1;stroke-linecap:butt;stroke-linejoin:miter;stroke:rgb(0%,0%,0%);stroke-opacity:1;stroke-miterlimit:10;\" d=\"M 176.019531 56.515625 C 176.019531 62.039062 171.542969 66.515625 166.019531 66.515625 C 160.496094 66.515625 156.019531 62.039062 156.019531 56.515625 C 156.019531 50.992188 160.496094 46.515625 166.019531 46.515625 C 171.542969 46.515625 176.019531 50.992188 176.019531 56.515625 \"/>\n<path style=\"fill-rule:nonzero;fill:rgb(33.333333%,41.960784%,18.431373%);fill-opacity:1;stroke-width:1;stroke-linecap:butt;stroke-linejoin:miter;stroke:rgb(0%,0%,0%);stroke-opacity:1;stroke-miterlimit:10;\" d=\"M 55.78125 210.722656 C 55.78125 216.246094 51.304688 220.722656 45.78125 220.722656 C 40.261719 220.722656 35.78125 216.246094 35.78125 210.722656 C 35.78125 205.199219 40.261719 200.722656 45.78125 200.722656 C 51.304688 200.722656 55.78125 205.199219 55.78125 210.722656 \"/>\n<path style=\"fill-rule:nonzero;fill:rgb(33.333333%,41.960784%,18.431373%);fill-opacity:1;stroke-width:1;stroke-linecap:butt;stroke-linejoin:miter;stroke:rgb(0%,0%,0%);stroke-opacity:1;stroke-miterlimit:10;\" d=\"M 290 92.328125 C 290 97.851562 285.523438 102.328125 280 102.328125 C 274.476562 102.328125 270 97.851562 270 92.328125 C 270 86.804688 274.476562 82.328125 280 82.328125 C 285.523438 82.328125 290 86.804688 290 92.328125 \"/>\n<g style=\"fill:rgb(0%,0%,0%);fill-opacity:1;\">\n  <use xlink:href=\"#glyph0-1\" x=\"272.300781\" y=\"26.847656\"/>\n</g>\n<g style=\"fill:rgb(0%,0%,0%);fill-opacity:1;\">\n  <use xlink:href=\"#glyph0-2\" x=\"106.277344\" y=\"237.921875\"/>\n</g>\n<g style=\"fill:rgb(0%,0%,0%);fill-opacity:1;\">\n  <use xlink:href=\"#glyph0-3\" x=\"15.734375\" y=\"286.847656\"/>\n</g>\n<g style=\"fill:rgb(0%,0%,0%);fill-opacity:1;\">\n  <use xlink:href=\"#glyph0-4\" x=\"147.726562\" y=\"153.019531\"/>\n</g>\n<g style=\"fill:rgb(0%,0%,0%);fill-opacity:1;\">\n  <use xlink:href=\"#glyph0-5\" x=\"161.617188\" y=\"63.269531\"/>\n</g>\n<g style=\"fill:rgb(0%,0%,0%);fill-opacity:1;\">\n  <use xlink:href=\"#glyph0-6\" x=\"41.402344\" y=\"217.476562\"/>\n</g>\n<g style=\"fill:rgb(0%,0%,0%);fill-opacity:1;\">\n  <use xlink:href=\"#glyph0-7\" x=\"275.5\" y=\"99.175781\"/>\n</g>\n</g>\n</svg>\n"
     },
     "execution_count": 2,
     "metadata": {
      "image/svg+xml": {
       "isolated": true
      }
     },
     "output_type": "execute_result"
    }
   ],
   "source": [
    "import igraph\n",
    "\n",
    "# Dictionary representation of graph with weights\n",
    "g = igraph.Graph(directed=True)\n",
    "\n",
    "# add vertices to the graph\n",
    "g.add_vertices(list(range(len(graph))))\n",
    "\n",
    "# add edges to the graph\n",
    "for vertex, neighbors in graph.items():\n",
    "    for neighbor in neighbors:\n",
    "        g.add_edge(vertex, neighbor)\n",
    "\n",
    "igraph.plot(g, vertex_label=graph.keys(), vertex_color='Dark Olive Green', edge_width=2, background='Light Slate Gray',\n",
    "            bbox=(300, 300))\n",
    "\n",
    "# [5, 4, 6, 2, 0, 1, 3]"
   ],
   "metadata": {
    "collapsed": false
   }
  },
  {
   "cell_type": "markdown",
   "source": [
    "## 2\n"
   ],
   "metadata": {
    "collapsed": false
   }
  },
  {
   "cell_type": "code",
   "execution_count": 7,
   "outputs": [
    {
     "name": "stdout",
     "output_type": "stream",
     "text": [
      "[[6], [4], [2, 5, 3, 1], [0]]\n"
     ]
    }
   ],
   "source": [
    "from lab4.digraph_components import find_connected_components\n",
    "\n",
    "connected_components = find_connected_components(graph)\n",
    "print(connected_components)"
   ],
   "metadata": {
    "collapsed": false
   }
  },
  {
   "cell_type": "markdown",
   "source": [
    "## 3\n"
   ],
   "metadata": {
    "collapsed": false
   }
  },
  {
   "cell_type": "code",
   "execution_count": null,
   "outputs": [],
   "source": [],
   "metadata": {
    "collapsed": false
   }
  }
 ],
 "metadata": {
  "kernelspec": {
   "display_name": "Python 3",
   "language": "python",
   "name": "python3"
  },
  "language_info": {
   "codemirror_mode": {
    "name": "ipython",
    "version": 2
   },
   "file_extension": ".py",
   "mimetype": "text/x-python",
   "name": "python",
   "nbconvert_exporter": "python",
   "pygments_lexer": "ipython2",
   "version": "2.7.6"
  }
 },
 "nbformat": 4,
 "nbformat_minor": 0
}
